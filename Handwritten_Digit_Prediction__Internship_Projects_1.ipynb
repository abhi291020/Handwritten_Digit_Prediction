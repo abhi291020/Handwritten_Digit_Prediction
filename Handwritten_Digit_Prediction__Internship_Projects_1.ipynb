{
  "nbformat": 4,
  "nbformat_minor": 0,
  "metadata": {
    "colab": {
      "provenance": [],
      "authorship_tag": "ABX9TyP1c9Y1M34X7z+YB1enycWM",
      "include_colab_link": true
    },
    "kernelspec": {
      "name": "python3",
      "display_name": "Python 3"
    },
    "language_info": {
      "name": "python"
    }
  },
  "cells": [
    {
      "cell_type": "markdown",
      "metadata": {
        "id": "view-in-github",
        "colab_type": "text"
      },
      "source": [
        "<a href=\"https://colab.research.google.com/github/abhi291020/Handwritten_Digit_Prediction/blob/main/Handwritten_Digit_Prediction__Internship_Projects_1.ipynb\" target=\"_parent\"><img src=\"https://colab.research.google.com/assets/colab-badge.svg\" alt=\"Open In Colab\"/></a>"
      ]
    },
    {
      "cell_type": "markdown",
      "source": [
        "**Title of Project:**"
      ],
      "metadata": {
        "id": "bxnYrHgAfV4z"
      }
    },
    {
      "cell_type": "markdown",
      "source": [
        "**Handwritten Digit Prediction using MNIST Dataset**"
      ],
      "metadata": {
        "id": "EZAzNIzvfbJu"
      }
    },
    {
      "cell_type": "markdown",
      "source": [
        "**Objective:**"
      ],
      "metadata": {
        "id": "egucix8sfh8H"
      }
    },
    {
      "cell_type": "markdown",
      "source": [
        "**To build a machine learning model that can accurately predict handwritten digits (0-9)**"
      ],
      "metadata": {
        "id": "aIcPVbvdfmZg"
      }
    },
    {
      "cell_type": "markdown",
      "source": [
        "**Import Library**"
      ],
      "metadata": {
        "id": "4DvBJiH1ftW0"
      }
    },
    {
      "cell_type": "code",
      "source": [
        "import numpy as np"
      ],
      "metadata": {
        "id": "9gjaaEdTgSCr"
      },
      "execution_count": 1,
      "outputs": []
    },
    {
      "cell_type": "code",
      "source": [
        "import pandas as pd"
      ],
      "metadata": {
        "id": "u97O4GH5gT5I"
      },
      "execution_count": 2,
      "outputs": []
    },
    {
      "cell_type": "code",
      "source": [
        "import matplotlib.pyplot as plt"
      ],
      "metadata": {
        "id": "JWU-3s5LgTmB"
      },
      "execution_count": 3,
      "outputs": []
    },
    {
      "cell_type": "code",
      "source": [
        "import seaborn as sns"
      ],
      "metadata": {
        "id": "cQ29rQN_gTO5"
      },
      "execution_count": 4,
      "outputs": []
    },
    {
      "cell_type": "code",
      "source": [
        "from sklearn.model_selection import train_test_split"
      ],
      "metadata": {
        "id": "ZP0ZvqHJgS4K"
      },
      "execution_count": 5,
      "outputs": []
    },
    {
      "cell_type": "code",
      "source": [
        "from sklearn.preprocessing import StandardScaler"
      ],
      "metadata": {
        "id": "mQel5Cj6gSi3"
      },
      "execution_count": 6,
      "outputs": []
    },
    {
      "cell_type": "code",
      "source": [
        "from sklearn.linear_model import LogisticRegression"
      ],
      "metadata": {
        "id": "JuCDHrF4gydO"
      },
      "execution_count": 7,
      "outputs": []
    },
    {
      "cell_type": "code",
      "source": [
        "from sklearn.metrics import classification_report, confusion_matrix, accuracy_score"
      ],
      "metadata": {
        "id": "1JO3iIyngy4w"
      },
      "execution_count": 8,
      "outputs": []
    },
    {
      "cell_type": "code",
      "source": [
        "from keras.datasets import mnist\n"
      ],
      "metadata": {
        "id": "_DHeqNbsgzcU"
      },
      "execution_count": 9,
      "outputs": []
    },
    {
      "cell_type": "markdown",
      "source": [
        "**Import Data**"
      ],
      "metadata": {
        "id": "tpkHRiHchCIs"
      }
    },
    {
      "cell_type": "code",
      "source": [
        "(train_X, train_y), (test_X, test_y) = mnist.load_data()"
      ],
      "metadata": {
        "id": "fZFp9qhxhJeQ",
        "colab": {
          "base_uri": "https://localhost:8080/"
        },
        "outputId": "4e194de6-5e98-4775-b1a6-9742d18ec98c"
      },
      "execution_count": 10,
      "outputs": [
        {
          "output_type": "stream",
          "name": "stdout",
          "text": [
            "Downloading data from https://storage.googleapis.com/tensorflow/tf-keras-datasets/mnist.npz\n",
            "11490434/11490434 [==============================] - 0s 0us/step\n"
          ]
        }
      ]
    },
    {
      "cell_type": "markdown",
      "source": [
        "**Describe Data**"
      ],
      "metadata": {
        "id": "FDvOYb-BhNBB"
      }
    },
    {
      "cell_type": "code",
      "source": [
        "print(\"Training data shape:\", train_X.shape)"
      ],
      "metadata": {
        "colab": {
          "base_uri": "https://localhost:8080/"
        },
        "id": "M6TgowMioafs",
        "outputId": "62316174-556d-4738-ae0a-23f50a8b4aba"
      },
      "execution_count": 11,
      "outputs": [
        {
          "output_type": "stream",
          "name": "stdout",
          "text": [
            "Training data shape: (60000, 28, 28)\n"
          ]
        }
      ]
    },
    {
      "cell_type": "code",
      "source": [
        "print(\"Testing data shape:\", test_X.shape)"
      ],
      "metadata": {
        "id": "y5LGsAsWhSej",
        "colab": {
          "base_uri": "https://localhost:8080/"
        },
        "outputId": "e26a3809-1a3f-48ab-ea87-5a00d372e9b6"
      },
      "execution_count": 12,
      "outputs": [
        {
          "output_type": "stream",
          "name": "stdout",
          "text": [
            "Testing data shape: (10000, 28, 28)\n"
          ]
        }
      ]
    },
    {
      "cell_type": "markdown",
      "source": [
        "**Display the first image in the training data**"
      ],
      "metadata": {
        "id": "tiRK_oJOhanE"
      }
    },
    {
      "cell_type": "code",
      "source": [
        "plt.imshow(train_X[0], cmap='gray')"
      ],
      "metadata": {
        "id": "rJtajo3vhob6",
        "colab": {
          "base_uri": "https://localhost:8080/",
          "height": 447
        },
        "outputId": "4108817c-ab22-4563-9733-2167c03f8b92"
      },
      "execution_count": 13,
      "outputs": [
        {
          "output_type": "execute_result",
          "data": {
            "text/plain": [
              "<matplotlib.image.AxesImage at 0x7d41c4bcfdf0>"
            ]
          },
          "metadata": {},
          "execution_count": 13
        },
        {
          "output_type": "display_data",
          "data": {
            "text/plain": [
              "<Figure size 640x480 with 1 Axes>"
            ],
            "image/png": "[encoded data removed]"
          },
          "metadata": {}
        }
      ]
    },
    {
      "cell_type": "code",
      "source": [
        "plt.title(f'Label: {train_y[0]}')"
      ],
      "metadata": {
        "id": "wouybhRchovF",
        "colab": {
          "base_uri": "https://localhost:8080/",
          "height": 469
        },
        "outputId": "162a15aa-529a-4383-84bc-6b444efe96ff"
      },
      "execution_count": 14,
      "outputs": [
        {
          "output_type": "execute_result",
          "data": {
            "text/plain": [
              "Text(0.5, 1.0, 'Label: 5')"
            ]
          },
          "metadata": {},
          "execution_count": 14
        },
        {
          "output_type": "display_data",
          "data": {
            "text/plain": [
              "<Figure size 640x480 with 1 Axes>"
            ],
            "image/png": "[encoded data removed]"
          },
          "metadata": {}
        }
      ]
    },
    {
      "cell_type": "code",
      "source": [
        "plt.show()"
      ],
      "metadata": {
        "id": "1aWQsgNYhqxP"
      },
      "execution_count": 15,
      "outputs": []
    },
    {
      "cell_type": "markdown",
      "source": [
        "**Data Visualization**"
      ],
      "metadata": {
        "id": "76eYF_6Oh0wg"
      }
    },
    {
      "cell_type": "code",
      "source": [
        "fig, axes = plt.subplots(1, 5, figsize=(10, 3))"
      ],
      "metadata": {
        "id": "AsGt53IxiD-b",
        "colab": {
          "base_uri": "https://localhost:8080/",
          "height": 297
        },
        "outputId": "bc81fc70-7f36-4195-e78f-9821180521ff"
      },
      "execution_count": 16,
      "outputs": [
        {
          "output_type": "display_data",
          "data": {
            "text/plain": [
              "<Figure size 1000x300 with 5 Axes>"
            ],
            "image/png": "[encoded data removed]"
          },
          "metadata": {}
        }
      ]
    },
    {
      "cell_type": "code",
      "source": [
        "for i in range(5):\n",
        "    axes[i].imshow(train_X[i], cmap='gray')\n",
        "    axes[i].set_title(f'Label: {train_y[i]}')\n",
        "    axes[i].axis('off')\n",
        "plt.show()"
      ],
      "metadata": {
        "id": "gzuHpynEiETT"
      },
      "execution_count": 17,
      "outputs": []
    },
    {
      "cell_type": "markdown",
      "source": [
        "**Data Preprocessing**"
      ],
      "metadata": {
        "id": "DT0Tef7Xicqg"
      }
    },
    {
      "cell_type": "code",
      "source": [
        "train_X_flat = train_X.reshape(train_X.shape[0], -1)"
      ],
      "metadata": {
        "id": "584U8TWnihHQ"
      },
      "execution_count": 18,
      "outputs": []
    },
    {
      "cell_type": "code",
      "source": [
        "test_X_flat = test_X.reshape(test_X.shape[0], -1)"
      ],
      "metadata": {
        "id": "R8IeaMj7ilbT"
      },
      "execution_count": 19,
      "outputs": []
    },
    {
      "cell_type": "markdown",
      "source": [
        "**Normalize the pixel values**"
      ],
      "metadata": {
        "id": "uxfDk0UIiomM"
      }
    },
    {
      "cell_type": "code",
      "source": [
        "train_X_flat = train_X_flat / 255.0"
      ],
      "metadata": {
        "id": "OaMRACalixMV"
      },
      "execution_count": 20,
      "outputs": []
    },
    {
      "cell_type": "code",
      "source": [
        "test_X_flat = test_X_flat / 255.0"
      ],
      "metadata": {
        "id": "ZeVcaFXdi028"
      },
      "execution_count": 21,
      "outputs": []
    },
    {
      "cell_type": "markdown",
      "source": [
        " **Define Target Variable (y) and Feature Variables (X)**"
      ],
      "metadata": {
        "id": "hs9Gq1lIi3wx"
      }
    },
    {
      "cell_type": "code",
      "source": [
        "X = train_X_flat"
      ],
      "metadata": {
        "id": "1K7oouBMjEcu"
      },
      "execution_count": 22,
      "outputs": []
    },
    {
      "cell_type": "code",
      "source": [
        "y = train_y"
      ],
      "metadata": {
        "id": "eE_EuqktjEwB"
      },
      "execution_count": 23,
      "outputs": []
    },
    {
      "cell_type": "markdown",
      "source": [
        "**Train Test Split**"
      ],
      "metadata": {
        "id": "CJYWFrwXjPZD"
      }
    },
    {
      "cell_type": "code",
      "source": [
        "X_train, X_val, y_train, y_val = train_test_split(X, y, test_size=0.2, random_state=42)"
      ],
      "metadata": {
        "id": "P10EglqCjSi2"
      },
      "execution_count": 24,
      "outputs": []
    },
    {
      "cell_type": "markdown",
      "source": [
        "**Modeling**"
      ],
      "metadata": {
        "id": "ob5lNX5pjbPC"
      }
    },
    {
      "cell_type": "code",
      "source": [
        "model = LogisticRegression(max_iter=1000, solver='lbfgs', multi_class='auto', n_jobs=-1)"
      ],
      "metadata": {
        "id": "-zCMUKF4jenH"
      },
      "execution_count": 25,
      "outputs": []
    },
    {
      "cell_type": "code",
      "source": [
        "model.fit(X_train, y_train)"
      ],
      "metadata": {
        "id": "C8k9TQUPjjgJ",
        "colab": {
          "base_uri": "https://localhost:8080/",
          "height": 129
        },
        "outputId": "433fecea-fabf-484d-8f0f-96f948581758"
      },
      "execution_count": 26,
      "outputs": [
        {
          "output_type": "stream",
          "name": "stderr",
          "text": [
            "/usr/local/lib/python3.10/dist-packages/joblib/externals/loky/backend/fork_exec.py:38: RuntimeWarning: os.fork() was called. os.fork() is incompatible with multithreaded code, and JAX is multithreaded, so this will likely lead to a deadlock.\n",
            "  pid = os.fork()\n"
          ]
        },
        {
          "output_type": "execute_result",
          "data": {
            "text/plain": [
              "LogisticRegression(max_iter=1000, n_jobs=-1)"
            ],
            "text/html": [
              "<style>#sk-container-id-1 {color: black;background-color: white;}#sk-container-id-1 pre{padding: 0;}#sk-container-id-1 div.sk-toggleable {background-color: white;}#sk-container-id-1 label.sk-toggleable__label {cursor: pointer;display: block;width: 100%;margin-bottom: 0;padding: 0.3em;box-sizing: border-box;text-align: center;}#sk-container-id-1 label.sk-toggleable__label-arrow:before {content: \"▸\";float: left;margin-right: 0.25em;color: #696969;}#sk-container-id-1 label.sk-toggleable__label-arrow:hover:before {color: black;}#sk-container-id-1 div.sk-estimator:hover label.sk-toggleable__label-arrow:before {color: black;}#sk-container-id-1 div.sk-toggleable__content {max-height: 0;max-width: 0;overflow: hidden;text-align: left;background-color: #f0f8ff;}#sk-container-id-1 div.sk-toggleable__content pre {margin: 0.2em;color: black;border-radius: 0.25em;background-color: #f0f8ff;}#sk-container-id-1 input.sk-toggleable__control:checked~div.sk-toggleable__content {max-height: 200px;max-width: 100%;overflow: auto;}#sk-container-id-1 input.sk-toggleable__control:checked~label.sk-toggleable__label-arrow:before {content: \"▾\";}#sk-container-id-1 div.sk-estimator input.sk-toggleable__control:checked~label.sk-toggleable__label {background-color: #d4ebff;}#sk-container-id-1 div.sk-label input.sk-toggleable__control:checked~label.sk-toggleable__label {background-color: #d4ebff;}#sk-container-id-1 input.sk-hidden--visually {border: 0;clip: rect(1px 1px 1px 1px);clip: rect(1px, 1px, 1px, 1px);height: 1px;margin: -1px;overflow: hidden;padding: 0;position: absolute;width: 1px;}#sk-container-id-1 div.sk-estimator {font-family: monospace;background-color: #f0f8ff;border: 1px dotted black;border-radius: 0.25em;box-sizing: border-box;margin-bottom: 0.5em;}#sk-container-id-1 div.sk-estimator:hover {background-color: #d4ebff;}#sk-container-id-1 div.sk-parallel-item::after {content: \"\";width: 100%;border-bottom: 1px solid gray;flex-grow: 1;}#sk-container-id-1 div.sk-label:hover label.sk-toggleable__label {background-color: #d4ebff;}#sk-container-id-1 div.sk-serial::before {content: \"\";position: absolute;border-left: 1px solid gray;box-sizing: border-box;top: 0;bottom: 0;left: 50%;z-index: 0;}#sk-container-id-1 div.sk-serial {display: flex;flex-direction: column;align-items: center;background-color: white;padding-right: 0.2em;padding-left: 0.2em;position: relative;}#sk-container-id-1 div.sk-item {position: relative;z-index: 1;}#sk-container-id-1 div.sk-parallel {display: flex;align-items: stretch;justify-content: center;background-color: white;position: relative;}#sk-container-id-1 div.sk-item::before, #sk-container-id-1 div.sk-parallel-item::before {content: \"\";position: absolute;border-left: 1px solid gray;box-sizing: border-box;top: 0;bottom: 0;left: 50%;z-index: -1;}#sk-container-id-1 div.sk-parallel-item {display: flex;flex-direction: column;z-index: 1;position: relative;background-color: white;}#sk-container-id-1 div.sk-parallel-item:first-child::after {align-self: flex-end;width: 50%;}#sk-container-id-1 div.sk-parallel-item:last-child::after {align-self: flex-start;width: 50%;}#sk-container-id-1 div.sk-parallel-item:only-child::after {width: 0;}#sk-container-id-1 div.sk-dashed-wrapped {border: 1px dashed gray;margin: 0 0.4em 0.5em 0.4em;box-sizing: border-box;padding-bottom: 0.4em;background-color: white;}#sk-container-id-1 div.sk-label label {font-family: monospace;font-weight: bold;display: inline-block;line-height: 1.2em;}#sk-container-id-1 div.sk-label-container {text-align: center;}#sk-container-id-1 div.sk-container {/* jupyter's `normalize.less` sets `[hidden] { display: none; }` but bootstrap.min.css set `[hidden] { display: none !important; }` so we also need the `!important` here to be able to override the default hidden behavior on the sphinx rendered scikit-learn.org. See: https://github.com/scikit-learn/scikit-learn/issues/21755 */display: inline-block !important;position: relative;}#sk-container-id-1 div.sk-text-repr-fallback {display: none;}</style><div id=\"sk-container-id-1\" class=\"sk-top-container\"><div class=\"sk-text-repr-fallback\"><pre>LogisticRegression(max_iter=1000, n_jobs=-1)</pre><b>In a Jupyter environment, please rerun this cell to show the HTML representation or trust the notebook. <br />On GitHub, the HTML representation is unable to render, please try loading this page with nbviewer.org.</b></div><div class=\"sk-container\" hidden><div class=\"sk-item\"><div class=\"sk-estimator sk-toggleable\"><input class=\"sk-toggleable__control sk-hidden--visually\" id=\"sk-estimator-id-1\" type=\"checkbox\" checked><label for=\"sk-estimator-id-1\" class=\"sk-toggleable__label sk-toggleable__label-arrow\">LogisticRegression</label><div class=\"sk-toggleable__content\"><pre>LogisticRegression(max_iter=1000, n_jobs=-1)</pre></div></div></div></div></div>"
            ]
          },
          "metadata": {},
          "execution_count": 26
        }
      ]
    },
    {
      "cell_type": "markdown",
      "source": [
        "**Model Evaluation**"
      ],
      "metadata": {
        "id": "2DSDoZqCjw9-"
      }
    },
    {
      "cell_type": "code",
      "source": [
        "y_val_pred = model.predict(X_val)"
      ],
      "metadata": {
        "id": "y8zmOBv2jy6A"
      },
      "execution_count": 27,
      "outputs": []
    },
    {
      "cell_type": "code",
      "source": [
        "print(\"Validation Accuracy:\", accuracy_score(y_val, y_val_pred))"
      ],
      "metadata": {
        "id": "wjlhTFqUj2pk",
        "colab": {
          "base_uri": "https://localhost:8080/"
        },
        "outputId": "bb90d5a5-2bea-432f-def2-c7efb06f2480"
      },
      "execution_count": 28,
      "outputs": [
        {
          "output_type": "stream",
          "name": "stdout",
          "text": [
            "Validation Accuracy: 0.9224166666666667\n"
          ]
        }
      ]
    },
    {
      "cell_type": "code",
      "source": [
        "print(\"Confusion Matrix:\\n\", confusion_matrix(y_val, y_val_pred))"
      ],
      "metadata": {
        "id": "afDb5N3Qj3fZ",
        "colab": {
          "base_uri": "https://localhost:8080/"
        },
        "outputId": "e803f683-bce8-4751-85df-e0b5dcadd8c6"
      },
      "execution_count": 29,
      "outputs": [
        {
          "output_type": "stream",
          "name": "stdout",
          "text": [
            "Confusion Matrix:\n",
            " [[1138    0    7    1    3    7    7    4    6    2]\n",
            " [   0 1281   10    3    2    5    1    3   14    3]\n",
            " [   3   19 1052   16   14    7   17   16   24    6]\n",
            " [   4    8   34 1088    1   35    2   11   21   15]\n",
            " [   1    2    5    2 1106    2   10    3    7   38]\n",
            " [  15    9   14   29    9  977   11    4   29    7]\n",
            " [   9    2   16    1    9   17 1117    2    4    0]\n",
            " [   5    8   17    8    9    2    0 1207    5   38]\n",
            " [  10   16   14   34    8   35   12    4 1014   13]\n",
            " [   5    5    6   10   24   11    0   36    8 1089]]\n"
          ]
        }
      ]
    },
    {
      "cell_type": "code",
      "source": [
        "print(\"Classification Report:\\n\", classification_report(y_val, y_val_pred))"
      ],
      "metadata": {
        "id": "ZdP9UVsdj4_h",
        "colab": {
          "base_uri": "https://localhost:8080/"
        },
        "outputId": "0a56ab20-4a3e-4fe1-c199-11a694a05378"
      },
      "execution_count": 30,
      "outputs": [
        {
          "output_type": "stream",
          "name": "stdout",
          "text": [
            "Classification Report:\n",
            "               precision    recall  f1-score   support\n",
            "\n",
            "           0       0.96      0.97      0.96      1175\n",
            "           1       0.95      0.97      0.96      1322\n",
            "           2       0.90      0.90      0.90      1174\n",
            "           3       0.91      0.89      0.90      1219\n",
            "           4       0.93      0.94      0.94      1176\n",
            "           5       0.89      0.88      0.89      1104\n",
            "           6       0.95      0.95      0.95      1177\n",
            "           7       0.94      0.93      0.93      1299\n",
            "           8       0.90      0.87      0.88      1160\n",
            "           9       0.90      0.91      0.91      1194\n",
            "\n",
            "    accuracy                           0.92     12000\n",
            "   macro avg       0.92      0.92      0.92     12000\n",
            "weighted avg       0.92      0.92      0.92     12000\n",
            "\n"
          ]
        }
      ]
    },
    {
      "cell_type": "markdown",
      "source": [
        "**Prediction**"
      ],
      "metadata": {
        "id": "-_6s71zjkDma"
      }
    },
    {
      "cell_type": "code",
      "source": [
        "y_test_pred = model.predict(test_X_flat)"
      ],
      "metadata": {
        "id": "0jA6ZTQykJmA"
      },
      "execution_count": 31,
      "outputs": []
    },
    {
      "cell_type": "code",
      "source": [
        "print(\"Test Accuracy:\", accuracy_score(test_y, y_test_pred))"
      ],
      "metadata": {
        "id": "K3LhlKEekQw7",
        "colab": {
          "base_uri": "https://localhost:8080/"
        },
        "outputId": "f73a632f-a999-455f-ba5c-e524769d0705"
      },
      "execution_count": 32,
      "outputs": [
        {
          "output_type": "stream",
          "name": "stdout",
          "text": [
            "Test Accuracy: 0.9248\n"
          ]
        }
      ]
    },
    {
      "cell_type": "code",
      "source": [
        "print(\"Confusion Matrix:\\n\", confusion_matrix(test_y, y_test_pred))"
      ],
      "metadata": {
        "id": "ekzQC4FykQjT",
        "colab": {
          "base_uri": "https://localhost:8080/"
        },
        "outputId": "d61d0ddb-e2a5-4752-92b3-0fa57fdcb01e"
      },
      "execution_count": 33,
      "outputs": [
        {
          "output_type": "stream",
          "name": "stdout",
          "text": [
            "Confusion Matrix:\n",
            " [[ 961    0    1    3    1    5    5    3    1    0]\n",
            " [   0 1113    3    2    0    1    4    1   11    0]\n",
            " [   7   11  922   18    9    4   14   11   32    4]\n",
            " [   4    1   17  921    1   22    4   11   22    7]\n",
            " [   1    4    5    3  918    0   10    6    7   28]\n",
            " [   8    2    3   38   11  774   15    6   30    5]\n",
            " [   9    3    7    2    6   17  911    2    1    0]\n",
            " [   0    8   24    8    6    1    0  948    1   32]\n",
            " [   8   10    7   23    8   26    9    9  862   12]\n",
            " [   8    8    1    9   25    7    1   23    9  918]]\n"
          ]
        }
      ]
    },
    {
      "cell_type": "code",
      "source": [
        "print(\"Classification Report:\\n\", classification_report(test_y, y_test_pred))"
      ],
      "metadata": {
        "id": "0XfNfwrYkQO_",
        "colab": {
          "base_uri": "https://localhost:8080/"
        },
        "outputId": "ac3d7e4a-8643-488d-8d0e-687489932cab"
      },
      "execution_count": 34,
      "outputs": [
        {
          "output_type": "stream",
          "name": "stdout",
          "text": [
            "Classification Report:\n",
            "               precision    recall  f1-score   support\n",
            "\n",
            "           0       0.96      0.98      0.97       980\n",
            "           1       0.96      0.98      0.97      1135\n",
            "           2       0.93      0.89      0.91      1032\n",
            "           3       0.90      0.91      0.90      1010\n",
            "           4       0.93      0.93      0.93       982\n",
            "           5       0.90      0.87      0.89       892\n",
            "           6       0.94      0.95      0.94       958\n",
            "           7       0.93      0.92      0.93      1028\n",
            "           8       0.88      0.89      0.88       974\n",
            "           9       0.91      0.91      0.91      1009\n",
            "\n",
            "    accuracy                           0.92     10000\n",
            "   macro avg       0.92      0.92      0.92     10000\n",
            "weighted avg       0.92      0.92      0.92     10000\n",
            "\n"
          ]
        }
      ]
    },
    {
      "cell_type": "markdown",
      "source": [
        "**Explanation:**"
      ],
      "metadata": {
        "id": "TVXJkah9khab"
      }
    },
    {
      "cell_type": "markdown",
      "source": [
        "**The logistic regression model was chosen for its simplicity and interpretability.\n",
        " The MNIST dataset was split into training and validation sets to train and evaluate the model.\n",
        " The images were flattened and normalized before training.\n",
        " The model achieved a reasonable accuracy on both validation and test sets.\n",
        "This project demonstrates the steps to preprocess image data and train a basic classifier for handwritten digit recognition.**"
      ],
      "metadata": {
        "id": "lemktUp5kkH5"
      }
    }
  ]
}